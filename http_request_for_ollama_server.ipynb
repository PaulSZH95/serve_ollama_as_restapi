{
  "cells": [
    {
      "cell_type": "markdown",
      "metadata": {},
      "source": [
        "<a href=\"https://colab.research.google.com/github/PaulSZH95/serve_ollama_as_restapi/blob/main/http_request_for_ollama_server.ipynb\" target=\"_parent\"><img src=\"https://colab.research.google.com/assets/colab-badge.svg\" alt=\"Open In Colab\"/></a>"
      ]
    },
    {
      "cell_type": "code",
      "execution_count": 46,
      "metadata": {
        "id": "PNRYxl9B2grm"
      },
      "outputs": [],
      "source": [
        "import requests\n",
        "import json\n",
        "\n",
        "def post_prompts(url:str,prompt:str,model:str):\n",
        "    # replace with the model you want\n",
        "\n",
        "  myobj = {\n",
        "      \"model\":model,\n",
        "      \"messages\":[{\n",
        "          \"role\":\"user\",\n",
        "          \"content\":prompt\n",
        "      }]\n",
        "  }\n",
        "\n",
        "  # Make the request with stream=True\n",
        "  response = requests.post(url, json=myobj, stream=True)\n",
        "  return response\n",
        "\n",
        "def get_response_from_stream(response):\n",
        "  if response.status_code == 200:\n",
        "      # Iterate over the response\n",
        "      message = ''\n",
        "      for chunk in response.iter_lines():\n",
        "          if chunk:  # filter out keep-alive new chunks\n",
        "              # Convert chunk to JSON (assuming JSON data)\n",
        "              json_chunk = json.loads(chunk.decode('utf-8'))\n",
        "              message += json_chunk['message']['content']\n",
        "              # Process the JSON chunk (this depends on your specific needs)\n",
        "  else:\n",
        "      print(f\"Error: {response.status_code}\")\n",
        "  return message"
      ]
    },
    {
      "cell_type": "markdown",
      "metadata": {},
      "source": [
        "URL should be the url of your ollama server. Make sure to change it."
      ]
    },
    {
      "cell_type": "code",
      "execution_count": 47,
      "metadata": {
        "colab": {
          "base_uri": "https://localhost:8080/",
          "height": 104
        },
        "id": "a58WuJtOqm2Z",
        "outputId": "460c8197-4066-43f4-9f99-470ef9878ae3"
      },
      "outputs": [
        {
          "data": {
            "application/vnd.google.colaboratory.intrinsic+json": {
              "type": "string"
            },
            "text/plain": [
              "\" I'd be happy to help you plan a 3-day itinerary for your trip to China! Here's a suggested itinerary that covers some of the most popular tourist destinations in Beijing, China:\\n\\nDay 1:\\n\\n1. Tiananmen Square and Forbidden City: Start your day early by visiting Tiananmen Square, the largest city square in the world. Then head to the nearby Forbidden City, which was once the imperial palace of the Ming and Qing dynasties. Make sure to dress appropriately (no short skirts or sleeveless tops) as there may be strict dress codes for entering some sites.\\n2. Temple of Heaven: After lunch, take a taxi or subway to the Temple of Heaven, a large complex of religious buildings where the emperors of the Ming and Qing dynasties would offer sacrifices to heaven. Be sure to check out the Circular Ming Altar and the Hall of Prayer for Good Harvests.\\n3. Hutongs: In the evening, take a rickshaw or taxi to explore the hutongs, traditional narrow streets and alleys in Beijing. Visit a local family's home and enjoy a home-cooked dinner.\\n\\nDay 2:\\n\\n1. Great Wall of China: Spend your entire day at the Great Wall of China. You can either take a tour or go on your own using public transportation. The Mutianyu section is popular with tourists and offers beautiful views, but it may be crowded. Alternatively, you can visit the less touristy Jinshanling section for a more authentic experience.\\n2. Summer Palace: In the evening, head back to Beijing and visit the Summer Palace, a large imperial garden in the northwestern part of Beijing. Take a boat ride on Kunming Lake or stroll around the gardens and temples.\\n\\nDay 3:\\n\\n1. Beihai Park and Jingshan Park: Spend your last day exploring the beautiful parks of Beijing. Start with Beihai Park, located near the Forbidden City, which features a lake, several temples, and beautiful gardens. After lunch, visit Jingshan Park, which offers great views of the city and is home to the famous Vajra Throne, believed to be the highest point in Beijing with an elevation of 48.7 meters.\\n2. Shopping and Food: In the evening, head to Wangfujing Street or Silk Market for some last-minute shopping. Try local street food such as jiaozi (dumplings), zhajiangmian (fermented soybean noodles), and chuan chuan xian (skewered vegetables).\\n\\nRemember, this itinerary is just a suggestion and can be adjusted based on your interests and travel pace. Enjoy your trip to China!\""
            ]
          },
          "execution_count": 47,
          "metadata": {},
          "output_type": "execute_result"
        }
      ],
      "source": [
        "url = \"https://23c5-34-122-42-83.ngrok-free.app\" + \"/api/chat\"\n",
        "prompt = (\n",
        "    \"I am a malaysian and I need a 3 day itinerary for a trip to USA during winter time\"\n",
        ")\n",
        "model = \"mistral\"\n",
        "response = post_prompts(url, prompt, model)\n",
        "print(get_response_from_stream(response))"
      ]
    }
  ],
  "metadata": {
    "colab": {
      "provenance": []
    },
    "kernelspec": {
      "display_name": "Python 3",
      "name": "python3"
    },
    "language_info": {
      "name": "python"
    }
  },
  "nbformat": 4,
  "nbformat_minor": 0
}
