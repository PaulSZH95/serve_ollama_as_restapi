{
  "cells": [
    {
      "cell_type": "markdown",
      "metadata": {},
      "source": [
        "<a href=\"https://colab.research.google.com/github/PaulSZH95/serve_ollama_as_restapi/blob/main/run_ollama_on_colab_gpu.ipynb\" target=\"_parent\"><img src=\"https://colab.research.google.com/assets/colab-badge.svg\" alt=\"Open In Colab\"/></a>"
      ]
    },
    {
      "cell_type": "code",
      "execution_count": 1,
      "metadata": {
        "colab": {
          "base_uri": "https://localhost:8080/"
        },
        "id": "D7lGbWXogaUL",
        "outputId": "2cf758d0-b76e-4720-e464-8ecf248ef65f"
      },
      "outputs": [
        {
          "name": "stdout",
          "output_type": "stream",
          "text": [
            "Writing .env\n"
          ]
        }
      ],
      "source": [
        "# %%writefile .env\n",
        "# ngrok_token=add_your_auth_token_here"
      ]
    },
    {
      "cell_type": "code",
      "execution_count": 2,
      "metadata": {
        "colab": {
          "base_uri": "https://localhost:8080/"
        },
        "id": "1-se7DECwiiP",
        "outputId": "a994c4bc-f3f9-4074-bacb-414fdfc18b99"
      },
      "outputs": [
        {
          "name": "stdout",
          "output_type": "stream",
          "text": [
            "Writing something.sh\n"
          ]
        }
      ],
      "source": [
        "# %%writefile setup.sh\n",
        "# #!/bin/bash\n",
        "\n",
        "# # Load the environment variables from .env file\n",
        "# source .env\n",
        "\n",
        "# apt-get install lshw && \\\n",
        "# curl https://ollama.ai/install.sh | sh && \\\n",
        "# pip install aiohttp pyngrok python-dotenv && \\\n",
        "# ngrok config add-authtoken $ngrok_token"
      ]
    },
    {
      "cell_type": "code",
      "execution_count": null,
      "metadata": {
        "id": "NptqIFGTwl9B"
      },
      "outputs": [],
      "source": [
        "# !chmod +x setup.sh\n",
        "# !./setup.sh"
      ]
    },
    {
      "cell_type": "code",
      "execution_count": 4,
      "metadata": {
        "id": "AhB1uS3KQRU9"
      },
      "outputs": [],
      "source": [
        "!rm -r /content/sample_data/"
      ]
    },
    {
      "cell_type": "markdown",
      "metadata": {},
      "source": [
        "replace mistral with the model you want\n",
        "\n"
      ]
    },
    {
      "cell_type": "code",
      "execution_count": null,
      "metadata": {
        "id": "qTKKE_mklb1C"
      },
      "outputs": [],
      "source": [
        "%%shell\n",
        "\n",
        "# Start \"ollama serve\" in the background using nohup\n",
        "nohup ollama serve > /dev/null 2>&1 &\n",
        "sleep 10\n",
        "ollama pull mistral"
      ]
    },
    {
      "cell_type": "code",
      "execution_count": 6,
      "metadata": {
        "id": "dhfO-iv3mY4h"
      },
      "outputs": [],
      "source": [
        "import os\n",
        "from pyngrok import conf\n",
        "from dotenv import load_dotenv\n",
        "\n",
        "load_dotenv()\n",
        "\n",
        "ngrok_token = os.getenv(\"ngrok_token\")\n",
        "os.environ[\"ngrok\"] = ngrok_token\n",
        "conf.get_default().auth_token = ngrok_token"
      ]
    },
    {
      "cell_type": "code",
      "execution_count": null,
      "metadata": {
        "id": "pj_lhhc_g_ns"
      },
      "outputs": [],
      "source": [
        "import asyncio\n",
        "\n",
        "# Set LD_LIBRARY_PATH so the system NVIDIA library\n",
        "os.environ.update({'LD_LIBRARY_PATH': '/usr/lib64-nvidia'})\n",
        "\n",
        "async def run_process(cmd):\n",
        "  print('>>> starting', *cmd)\n",
        "  p = await asyncio.subprocess.create_subprocess_exec(\n",
        "      *cmd,\n",
        "      stdout=asyncio.subprocess.PIPE,\n",
        "      stderr=asyncio.subprocess.PIPE,\n",
        "  )\n",
        "\n",
        "  async def pipe(lines):\n",
        "    async for line in lines:\n",
        "      print(line.strip().decode('utf-8'))\n",
        "\n",
        "  await asyncio.gather(\n",
        "      pipe(p.stdout),\n",
        "      pipe(p.stderr),\n",
        "  )\n",
        "#     run_process(['ollama', 'pull','mistral']),\n",
        "await asyncio.gather(\n",
        "    run_process(['ollama', 'serve']),\n",
        "    run_process(['ngrok', 'http', '--log', 'stderr', '11434']),\n",
        ")"
      ]
    },
    {
      "cell_type": "markdown",
      "metadata": {},
      "source": [
        "Output of public url e.g. https://797e-34-74-220-15.ngrok-free.app/api/chat"
      ]
    }
  ],
  "metadata": {
    "accelerator": "GPU",
    "colab": {
      "gpuType": "T4",
      "provenance": []
    },
    "kernelspec": {
      "display_name": "Python 3",
      "name": "python3"
    },
    "language_info": {
      "name": "python"
    }
  },
  "nbformat": 4,
  "nbformat_minor": 0
}
